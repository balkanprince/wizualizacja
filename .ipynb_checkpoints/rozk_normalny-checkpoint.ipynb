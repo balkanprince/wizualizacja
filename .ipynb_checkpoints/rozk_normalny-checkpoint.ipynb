{
 "cells": [
  {
   "cell_type": "code",
   "execution_count": 4,
   "id": "e36ef842",
   "metadata": {},
   "outputs": [
    {
     "data": {
      "text/plain": [
       "'rozk_normalny.ipynb'"
      ]
     },
     "execution_count": 4,
     "metadata": {},
     "output_type": "execute_result"
    }
   ],
   "source": [
    "import numpy as np\n",
    "import pandas as pd\n",
    "from nbformat import v4 as nbf\n",
    "import nbformat\n",
    "\n",
    "# Tworzenie danych\n",
    "np.random.seed(42)\n",
    "data_100 = np.random.normal(loc=3, scale=1, size=100)\n",
    "data_10000 = np.random.normal(loc=3, scale=1, size=10000)\n",
    "\n",
    "# Tworzenie notebooka\n",
    "notebook = nbf.new_notebook()\n",
    "cells = []\n",
    "\n",
    "# Wprowadzenie\n",
    "cells.append(nbf.new_markdown_cell(\"# Porównanie statystyk opisowych dla rozkładów normalnych\\n\"\n",
    "                                   \"Analizujemy dwa zbiory danych wygenerowane z rozkładu normalnego \"\n",
    "                                   \"o średniej 3 i odchyleniu standardowym 1:\\n\\n\"\n",
    "                                   \"- Zbiór 1: 100 obserwacji\\n\"\n",
    "                                   \"- Zbiór 2: 10 000 obserwacji\\n\\n\"\n",
    "                                   \"Celem analizy jest porównanie statystyk opisowych i zbadanie, jak rozmiar próbki wpływa na stabilność statystyk.\"))\n",
    "\n",
    "# Import i generowanie danych\n",
    "cells.append(nbf.new_code_cell(\"import numpy as np\\n\"\n",
    "                               \"import pandas as pd\\n\"\n",
    "                               \"import matplotlib.pyplot as plt\\n\"\n",
    "                               \"import seaborn as sns\\n\\n\"\n",
    "                               \"np.random.seed(42)\\n\"\n",
    "                               \"data_100 = np.random.normal(loc=3, scale=1, size=100)\\n\"\n",
    "                               \"data_10000 = np.random.normal(loc=3, scale=1, size=10000)\"))\n",
    "\n",
    "# Statystyki opisowe dla 100\n",
    "cells.append(nbf.new_markdown_cell(\"## Statystyki opisowe – zbiór 100 elementów\"))\n",
    "cells.append(nbf.new_code_cell(\"pd.Series(data_100).describe()\"))\n",
    "\n",
    "# Statystyki opisowe dla 10 000\n",
    "cells.append(nbf.new_markdown_cell(\"## Statystyki opisowe – zbiór 10 000 elementów\"))\n",
    "cells.append(nbf.new_code_cell(\"pd.Series(data_10000).describe()\"))\n",
    "\n",
    "# Boxploty\n",
    "cells.append(nbf.new_markdown_cell(\"## Porównanie wykresów pudełkowych\"))\n",
    "cells.append(nbf.new_code_cell(\"plt.figure(figsize=(10, 4))\\n\"\n",
    "                               \"sns.boxplot(data=[data_100, data_10000])\\n\"\n",
    "                               \"plt.xticks([0, 1], ['n=100', 'n=10 000'])\\n\"\n",
    "                               \"plt.title('Boxplot dla dwóch rozkładów')\\n\"\n",
    "                               \"plt.show()\"))\n",
    "\n",
    "# Histogramy\n",
    "cells.append(nbf.new_markdown_cell(\"## Histogramy\"))\n",
    "cells.append(nbf.new_code_cell(\"fig, axes = plt.subplots(1, 2, figsize=(14, 4))\\n\"\n",
    "                               \"sns.histplot(data_100, bins=20, kde=True, ax=axes[0])\\n\"\n",
    "                               \"axes[0].set_title('Histogram – 100 elementów')\\n\"\n",
    "                               \"sns.histplot(data_10000, bins=50, kde=True, ax=axes[1])\\n\"\n",
    "                               \"axes[1].set_title('Histogram – 10 000 elementów')\\n\"\n",
    "                               \"plt.show()\"))\n",
    "\n",
    "# Podsumowanie\n",
    "cells.append(nbf.new_markdown_cell(\"## Wnioski\\n\"\n",
    "                                   \"- Statystyki w małym zbiorze (n=100) są bardziej podatne na losowe odchylenia.\\n\"\n",
    "                                   \"- Większy zbiór (n=10 000) lepiej odwzorowuje parametry rozkładu (średnia ~3, std ~1).\\n\"\n",
    "                                   \"- Histogram i boxplot zbioru 10 000 są gładsze i bardziej symetryczne.\\n\"\n",
    "                                   \"- Pokazuje to, że większe próby dostarczają bardziej stabilnych estymacji.\"))\n",
    "\n",
    "# Przypisanie komórek\n",
    "notebook['cells'] = cells\n",
    "\n",
    "# Zapisanie notebooka\n",
    "notebook_path = \"rozk_normalny.ipynb\"\n",
    "with open(notebook_path, \"w\", encoding=\"utf-8\") as f:\n",
    "    nbformat.write(notebook, f)\n",
    "\n",
    "notebook_path\n"
   ]
  },
  {
   "cell_type": "code",
   "execution_count": null,
   "id": "1e5c1fd7",
   "metadata": {},
   "outputs": [],
   "source": []
  }
 ],
 "metadata": {
  "kernelspec": {
   "display_name": "Python 3 (ipykernel)",
   "language": "python",
   "name": "python3"
  },
  "language_info": {
   "codemirror_mode": {
    "name": "ipython",
    "version": 3
   },
   "file_extension": ".py",
   "mimetype": "text/x-python",
   "name": "python",
   "nbconvert_exporter": "python",
   "pygments_lexer": "ipython3",
   "version": "3.13.3"
  }
 },
 "nbformat": 4,
 "nbformat_minor": 5
}
