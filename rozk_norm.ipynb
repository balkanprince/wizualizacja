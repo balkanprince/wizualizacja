{
 "cells": [
  {
   "cell_type": "markdown",
   "id": "ffd11ab5",
   "metadata": {},
   "source": [
    "# Porównanie statystyk opisowych dla rozkładów normalnych\n",
    "Analizujemy dwa zbiory danych wygenerowane z rozkładu normalnego o średniej 3 i odchyleniu standardowym 1:\n",
    "\n",
    "- Zbiór 1: 100 obserwacji\n",
    "- Zbiór 2: 10 000 obserwacji\n",
    "\n",
    "Celem analizy jest porównanie statystyk opisowych i zbadanie, jak rozmiar próbki wpływa na stabilność statystyk."
   ]
  },
  {
   "cell_type": "code",
   "execution_count": null,
   "id": "cf1a8f98",
   "metadata": {},
   "outputs": [],
   "source": [
    "import numpy as np\n",
    "import pandas as pd\n",
    "import matplotlib.pyplot as plt\n",
    "import seaborn as sns\n",
    "\n",
    "np.random.seed(42)\n",
    "data_100 = np.random.normal(loc=3, scale=1, size=100)\n",
    "data_10000 = np.random.normal(loc=3, scale=1, size=10000)"
   ]
  },
  {
   "cell_type": "markdown",
   "id": "1f30ab6c",
   "metadata": {},
   "source": [
    "## Statystyki opisowe – zbiór 100 elementów"
   ]
  },
  {
   "cell_type": "code",
   "execution_count": null,
   "id": "3ce3ad10",
   "metadata": {},
   "outputs": [],
   "source": [
    "pd.Series(data_100).describe()"
   ]
  },
  {
   "cell_type": "markdown",
   "id": "d5c6ac08",
   "metadata": {},
   "source": [
    "## Statystyki opisowe – zbiór 10 000 elementów"
   ]
  },
  {
   "cell_type": "code",
   "execution_count": null,
   "id": "f8056054",
   "metadata": {},
   "outputs": [],
   "source": [
    "pd.Series(data_10000).describe()"
   ]
  },
  {
   "cell_type": "markdown",
   "id": "27b183ce",
   "metadata": {},
   "source": [
    "## Porównanie wykresów pudełkowych"
   ]
  },
  {
   "cell_type": "code",
   "execution_count": null,
   "id": "3d7e3cb4",
   "metadata": {},
   "outputs": [],
   "source": [
    "plt.figure(figsize=(10, 4))\n",
    "sns.boxplot(data=[data_100, data_10000])\n",
    "plt.xticks([0, 1], ['n=100', 'n=10 000'])\n",
    "plt.title('Boxplot dla dwóch rozkładów')\n",
    "plt.show()"
   ]
  },
  {
   "cell_type": "markdown",
   "id": "c2f9d03d",
   "metadata": {},
   "source": [
    "## Histogramy"
   ]
  },
  {
   "cell_type": "code",
   "execution_count": null,
   "id": "8ea6ed45",
   "metadata": {},
   "outputs": [],
   "source": [
    "fig, axes = plt.subplots(1, 2, figsize=(14, 4))\n",
    "sns.histplot(data_100, bins=20, kde=True, ax=axes[0])\n",
    "axes[0].set_title('Histogram – 100 elementów')\n",
    "sns.histplot(data_10000, bins=50, kde=True, ax=axes[1])\n",
    "axes[1].set_title('Histogram – 10 000 elementów')\n",
    "plt.show()"
   ]
  },
  {
   "cell_type": "markdown",
   "id": "8ff6d7a6",
   "metadata": {},
   "source": [
    "## Wnioski\n",
    "- Statystyki w małym zbiorze (n=100) są bardziej podatne na losowe odchylenia.\n",
    "- Większy zbiór (n=10 000) lepiej odwzorowuje parametry rozkładu (średnia ~3, std ~1).\n",
    "- Histogram i boxplot zbioru 10 000 są gładsze i bardziej symetryczne.\n",
    "- Pokazuje to, że większe próby dostarczają bardziej stabilnych estymacji."
   ]
  }
 ],
 "metadata": {},
 "nbformat": 4,
 "nbformat_minor": 5
}
